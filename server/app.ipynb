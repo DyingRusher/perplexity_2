{
 "cells": [
  {
   "cell_type": "code",
   "execution_count": 5,
   "id": "55e30df8-858f-4baa-be1e-7780f49b1219",
   "metadata": {},
<<<<<<< HEAD
   "outputs": [],
=======
   "outputs": [
    {
     "name": "stdout",
     "output_type": "stream",
     "text": [
      "\n",
      "content=\"Here's a step-by-step guide to help you get a job in India:\\n\\n**Preparation**\\n\\n1. **Update your resume**: Tailor your resume to match the requirements of Indian job postings.\\n2. **Improve your skills**: Acquire skills that are in demand in the Indian job market, such as programming languages, data analysis, digital marketing, or cloud computing.\\n3. **Build a strong online presence**: Create a professional LinkedIn profile and engage with Indian professionals and companies.\\n4. **Learn about Indian culture and business etiquette**: Understand the Indian work culture, norms, and communication styles.\\n\\n**Job Search**\\n\\n1. **Job portals**: Utilize popular Indian job portals such as:\\n\\t* Naukri.com\\n\\t* Indeed.com\\n\\t* Monster.com\\n\\t* LinkedIn.com\\n\\t* Glassdoor.com\\n2. **Company websites**: Check the careers pages of Indian companies you're interested in.\\n3. **Networking**: Attend job fairs, industry events, and networking sessions to connect with professionals and recruiters.\\n4. **Referrals**: Leverage your personal network, including friends, family, and acquaintances, to get job referrals.\\n\\n**Job Applications**\\n\\n1. **Customize your application**: Tailor your resume and cover letter to each job posting.\\n2. **Use keywords**: Include relevant keywords from the job posting to increase your chances of getting noticed.\\n3. **Showcase your skills**: Highlight your relevant skills and experiences in your application.\\n4. **Follow application instructions**: Carefully follow the application instructions, including submitting your application through the specified channel.\\n\\n**Interviews**\\n\\n1. **Prepare for common interview questions**: Research and prepare answers to common interview questions in India.\\n2. **Practice your communication skills**: Improve your verbal and non-verbal communication skills to ace the interview.\\n3. **Dress professionally**: Dress according to the company culture and dress code.\\n4. **Be prepared to ask questions**: Prepare thoughtful questions to ask the interviewer about the company and role.\\n\\n**Post-Interview**\\n\\n1. **Send a thank-you note**: Express your gratitude for the interview opportunity and reiterate your interest in the role.\\n2. **Follow up**: If you haven't heard back within a week, send a follow-up email to inquire about the status of your application.\\n3. **Be patient**: It may take some time to hear back from the company, so be patient and persistent.\\n\\n**Additional Tips**\\n\\n1. **Be flexible**: Consider taking up internships or part-time jobs to gain experience and build your network.\\n2. **Learn about Indian business laws and regulations**: Familiarize yourself with Indian labor laws and regulations to ensure compliance.\\n3. **Stay positive**: Job hunting can be challenging, so maintain a positive attitude and stay motivated.\\n\\nBy following these steps and tips, you'll increase your chances of getting a job in India. Good luck!\" additional_kwargs={} response_metadata={'token_usage': {'completion_tokens': 587, 'prompt_tokens': 41, 'total_tokens': 628, 'completion_time': 0.782666667, 'prompt_time': 0.003773498, 'queue_time': 0.048073042, 'total_time': 0.786440165}, 'model_name': 'llama-3.1-8b-instant', 'system_fingerprint': 'fp_8d1c73bd4c', 'finish_reason': 'stop', 'logprobs': None} id='run--940ccadc-715e-4c24-9b81-b6518ca8cbac-0' usage_metadata={'input_tokens': 41, 'output_tokens': 587, 'total_tokens': 628}\n"
     ]
    }
   ],
>>>>>>> cca403abf536a691c38bc56b8e6a1e992a50fc5b
   "source": [
    "from typing import TypedDict , Annotated , Optional\n",
    "from langgraph.graph import add_messages ,StateGraph,END\n",
    "from langchain_groq import ChatGroq\n",
    "from dotenv import load_dotenv\n",
    "from langchain_community.tools.tavily_search import TavilySearchResults\n",
    "from langgraph.checkpoint.memory import MemorySaver\n",
    "from uuid import uuid4\n",
    "import json\n",
    "import os\n",
    "\n",
    "load_dotenv()\n",
    "\n",
    "groq_key =  os.environ.get(\"GROQ_API_KEY\")\n",
    "\n",
    "model = ChatGroq(model=\"llama-3.1-8b-instant\")\n",
    "\n",
    "res = model.invoke(\"How to get job in india\")\n",
    "print(res)"
   ]
  },
  {
   "cell_type": "code",
   "execution_count": null,
   "id": "5ace7029",
   "metadata": {},
   "outputs": [],
   "source": [
    "import sys\n",
    "print(os.getcwd())"
   ]
  },
  {
   "cell_type": "code",
   "execution_count": 17,
   "id": "c3c03ff2",
   "metadata": {},
   "outputs": [],
   "source": [
    "search_tool = TavilySearchResults(max_results=4)\n",
    "\n",
    "tools = [search_tool]\n",
    "\n",
    "memory = MemorySaver()\n"
   ]
  },
  {
   "cell_type": "code",
   "execution_count": null,
   "id": "de9cc6d5",
   "metadata": {},
   "outputs": [],
   "source": [
    "llm_with_tools = model.bind_tools(tools=tools)\n"
   ]
  },
  {
   "cell_type": "code",
   "execution_count": 21,
   "id": "8a61dc87",
   "metadata": {},
   "outputs": [],
   "source": [
    "from langchain_core.messages import AIMessage, HumanMessage, ToolMessage\n",
    "\n",
    "class State(TypedDict):\n",
    "    messages: Annotated[list, add_messages]\n",
    "\n",
    "async def model(state: State):\n",
    "    result = await llm_with_tools.ainvoke(state[\"messages\"])\n",
    "    return {\n",
    "        \"messages\": [result], \n",
    "    }\n",
    "\n",
    "async def tools_router(state: State):\n",
    "    last_message = state[\"messages\"][-1]\n",
    "\n",
    "    if(hasattr(last_message, \"tool_calls\") and len(last_message.tool_calls) > 0):\n",
    "        return \"tool_node\"\n",
    "    else: \n",
    "        return END\n",
    "    \n",
    "async def tool_node(state):\n",
    "    \"\"\"Custom tool node that handles tool calls from the LLM.\"\"\"\n",
    "    \n",
    "    tool_calls = state[\"messages\"][-1].tool_calls\n",
    "    \n",
    "    tool_messages = []\n",
    "    \n",
    "    \n",
    "    for tool_call in tool_calls:\n",
    "        tool_name = tool_call[\"name\"]\n",
    "        tool_args = tool_call[\"args\"]\n",
    "        tool_id = tool_call[\"id\"]\n",
    "        \n",
    "        \n",
    "        if tool_name == \"tavily_search_results_json\":\n",
    "            \n",
    "            search_results = await search_tool.ainvoke(tool_args)\n",
    "            \n",
    "            \n",
    "            tool_message = ToolMessage(\n",
    "                content=str(search_results),\n",
    "                tool_call_id=tool_id,\n",
    "                name=tool_name\n",
    "            )\n",
    "            \n",
    "            tool_messages.append(tool_message)\n",
    "    \n",
    "    \n",
    "    return {\"messages\": tool_messages}\n",
    "\n",
    "graph_builder = StateGraph(State)\n",
    "\n",
    "graph_builder.add_node(\"model\", model)\n",
    "graph_builder.add_node(\"tool_node\", tool_node)\n",
    "graph_builder.set_entry_point(\"model\")\n",
    "\n",
    "graph_builder.add_conditional_edges(\"model\", tools_router)\n",
    "graph_builder.add_edge(\"tool_node\", \"model\")\n",
    "\n",
    "graph = graph_builder.compile(checkpointer=memory)"
   ]
  },
  {
   "cell_type": "code",
   "execution_count": 22,
   "id": "c1df6ea8",
   "metadata": {},
   "outputs": [],
   "source": [
    "from IPython.display import Image, display\n",
    "from langchain_core.runnables.graph import MermaidDrawMethod\n",
    "\n",
    "display(\n",
    "    Image(\n",
    "        graph.get_graph().draw_mermaid_png(\n",
    "            draw_method=MermaidDrawMethod.API\n",
    "        )\n",
    "    )\n",
    ")"
   ]
  },
  {
   "cell_type": "code",
   "execution_count": 24,
   "id": "0290c738",
   "metadata": {},
   "outputs": [],
   "source": [
    "config = {\n",
    "    \"configurable\": {\n",
    "        \"thread_id\": 5\n",
    "    }\n",
    "}\n",
    "\n",
    "response = await graph.ainvoke({\n",
    "    \"messages\": [HumanMessage(content=\"When is the next Isro launch?\")], \n",
    "}, config=config)\n",
    "\n",
    "response"
   ]
  },
  {
   "cell_type": "code",
   "execution_count": 26,
   "id": "6d0aa854",
   "metadata": {},
   "outputs": [],
   "source": [
    "config = {\n",
    "    \"configurable\": {\n",
    "        \"thread_id\": 18\n",
    "    }\n",
    "}\n",
    "\n",
    "\n",
    "async for event in graph.astream_events({\n",
    "    \"messages\": [HumanMessage(content=\"When is the next isro launch?\")],\n",
    "}, config=config, version=\"v2\"):\n",
    "    \n",
    "    print(event)"
   ]
  },
  {
   "cell_type": "code",
   "execution_count": null,
   "id": "5866930b",
   "metadata": {},
   "outputs": [],
   "source": []
  },
  {
   "cell_type": "code",
   "execution_count": null,
   "id": "8e34121f",
   "metadata": {},
   "outputs": [],
   "source": []
  }
 ],
 "metadata": {
  "kernelspec": {
   "display_name": "p2",
   "language": "python",
   "name": "p2"
  }
 },
 "nbformat": 4,
 "nbformat_minor": 5
}
